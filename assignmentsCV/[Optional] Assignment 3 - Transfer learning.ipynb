{
 "cells": [
  {
   "cell_type": "markdown",
   "id": "14975909",
   "metadata": {},
   "source": [
    "# Assignment 3\n",
    "\n",
    "This is an optional assignment for further exploration of transfer learning with deep networks. You will not be assessed but will receive feedback from the teaching staff.\n",
    "\n",
    "Here, you are asked to practise the concept of transfer learning by fine-tuning a pre-trained network to classify a new dataset.\n",
    "\n",
    "Follow instructions in the tutorial that you can find in:\n",
    "\n",
    "https://pytorch.org/tutorials/beginner/finetuning_torchvision_models_tutorial.html\n",
    "\n",
    "Report results with k-fold cross-validation."
   ]
  },
  {
   "cell_type": "code",
   "execution_count": null,
   "id": "b51aa5b8",
   "metadata": {},
   "outputs": [],
   "source": [
    "# Load needed packages\n",
    "from __future__ import print_function\n",
    "from __future__ import division\n",
    "import torch\n",
    "import torch.nn as nn\n",
    "import torch.optim as optim\n",
    "import numpy as np\n",
    "import torchvision\n",
    "from torchvision import datasets, models, transforms\n",
    "import matplotlib.pyplot as plt\n",
    "import time\n",
    "import os\n",
    "import copy\n",
    "print(\"PyTorch Version: \",torch.__version__)\n",
    "print(\"Torchvision Version: \",torchvision.__version__)"
   ]
  },
  {
   "cell_type": "markdown",
   "id": "744b7e65",
   "metadata": {},
   "source": [
    "### Load dataset"
   ]
  },
  {
   "cell_type": "code",
   "execution_count": null,
   "id": "9b84e775",
   "metadata": {},
   "outputs": [],
   "source": [
    "'''Your solution goes here'''"
   ]
  },
  {
   "cell_type": "markdown",
   "id": "34a88b93",
   "metadata": {},
   "source": [
    "#### Data augmentation and normalization for training"
   ]
  },
  {
   "cell_type": "markdown",
   "id": "a1f60fb0",
   "metadata": {},
   "source": [
    "### Load pretrained a network to fine-tune. \n",
    "You can use different networks for this purpose.\n",
    "\n",
    "[resnet, alexnet, vgg, squeezenet, densenet, inception]\n"
   ]
  },
  {
   "cell_type": "code",
   "execution_count": null,
   "id": "7ac4430a",
   "metadata": {},
   "outputs": [],
   "source": [
    "'''Your solution goes here'''"
   ]
  },
  {
   "cell_type": "markdown",
   "id": "78b8259a",
   "metadata": {},
   "source": [
    "### Initialize the model"
   ]
  },
  {
   "cell_type": "code",
   "execution_count": null,
   "id": "f7b89234",
   "metadata": {},
   "outputs": [],
   "source": [
    "'''Your solution goes here'''"
   ]
  },
  {
   "cell_type": "markdown",
   "id": "70230b5a",
   "metadata": {},
   "source": [
    "### Build function to train your model"
   ]
  },
  {
   "cell_type": "code",
   "execution_count": null,
   "id": "07ea0db7",
   "metadata": {},
   "outputs": [],
   "source": [
    "'''Your solution goes here'''"
   ]
  },
  {
   "cell_type": "markdown",
   "id": "c11b6ecc",
   "metadata": {},
   "source": [
    "### Create an optimizer that only updates the desired parameters"
   ]
  },
  {
   "cell_type": "code",
   "execution_count": null,
   "id": "4908040d",
   "metadata": {},
   "outputs": [],
   "source": [
    "'''Your solution goes here'''"
   ]
  },
  {
   "cell_type": "markdown",
   "id": "02217083",
   "metadata": {},
   "source": [
    "### Run training"
   ]
  },
  {
   "cell_type": "code",
   "execution_count": null,
   "id": "68e2fc08",
   "metadata": {},
   "outputs": [],
   "source": [
    "'''Your solution goes here'''"
   ]
  },
  {
   "cell_type": "markdown",
   "id": "82e9e035",
   "metadata": {},
   "source": [
    "--------------------------"
   ]
  },
  {
   "cell_type": "markdown",
   "id": "ef3410e0",
   "metadata": {},
   "source": [
    "## k-fold cross validation\n",
    "\n",
    "Follow tutorial in https://medium.com/dataseries/k-fold-cross-validation-with-pytorch-and-sklearn-d094aa00105f\n",
    "\n",
    "Pay attention to how different optimizers are used. Practise with both and see how the performance is affected."
   ]
  },
  {
   "cell_type": "code",
   "execution_count": null,
   "id": "df72e25f",
   "metadata": {},
   "outputs": [],
   "source": [
    "from sklearn.model_selection import KFold\n"
   ]
  },
  {
   "cell_type": "code",
   "execution_count": null,
   "id": "65304ddf",
   "metadata": {},
   "outputs": [],
   "source": [
    "'''Your solution goes here'''"
   ]
  }
 ],
 "metadata": {
  "kernelspec": {
   "display_name": "Python 3 (ipykernel)",
   "language": "python",
   "name": "python3"
  },
  "language_info": {
   "codemirror_mode": {
    "name": "ipython",
    "version": 3
   },
   "file_extension": ".py",
   "mimetype": "text/x-python",
   "name": "python",
   "nbconvert_exporter": "python",
   "pygments_lexer": "ipython3",
   "version": "3.9.7"
  }
 },
 "nbformat": 4,
 "nbformat_minor": 5
}
