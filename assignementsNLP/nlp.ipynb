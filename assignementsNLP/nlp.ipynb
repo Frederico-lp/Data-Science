{
 "cells": [
  {
   "cell_type": "code",
   "execution_count": 6,
   "metadata": {},
   "outputs": [],
   "source": [
    "import nltk\n",
    "\n",
    "#from nltk.corpus import webtext\n",
    "\n",
    "#from nltk.corpus import gutenberg\n",
    "\n",
    "#from nltk.corpus import reuters"
   ]
  },
  {
   "cell_type": "markdown",
   "metadata": {},
   "source": [
    "## Assignement 1"
   ]
  },
  {
   "cell_type": "code",
   "execution_count": 7,
   "metadata": {},
   "outputs": [
    {
     "name": "stderr",
     "output_type": "stream",
     "text": [
      "[nltk_data] Downloading package webtext to\n",
      "[nltk_data]     C:\\Users\\Frederico\\AppData\\Roaming\\nltk_data...\n",
      "[nltk_data]   Unzipping corpora\\webtext.zip.\n"
     ]
    },
    {
     "data": {
      "text/plain": [
       "True"
      ]
     },
     "execution_count": 7,
     "metadata": {},
     "output_type": "execute_result"
    }
   ],
   "source": [
    "from nltk.corpus import webtext\n",
    "nltk.download('webtext')"
   ]
  },
  {
   "cell_type": "code",
   "execution_count": 17,
   "metadata": {},
   "outputs": [
    {
     "name": "stdout",
     "output_type": "stream",
     "text": [
      "Cookie Manager: \"Don't allow sites that set removed cookies to set future cookies\" should stay checked\n",
      "When in full screen mode\n",
      "Pressing Ctrl-N should open a new browser when only download dialog is left open\n",
      "add icons to context menu\n",
      "So called \"tab bar\" should be made a proper toolbar or given the ability collapse / expand.\n",
      "[XUL] Implement Cocoa-style toolbar customization.\n",
      "#ifdefs for MOZ_PHOENIX\n",
      "customize dialog's toolbar has small icons when small icons is not checked\n",
      "nightly builds and tinderboxen for Phoenix\n",
      "finish tearing prefs UI to pieces and then make it not suck\n",
      "\"mozbrowser\" script doesn't start correct binary\n",
      "Need bookmark groups icon\n",
      "Dropping at top of palette box horks things\n",
      "keyboard shortcut for Increase Text Size is broken\n",
      "default phoenix bookmarks\n",
      "[cust] need a toolbar spacer and spring spacer for customize\n",
      "Can't launch phoenix while Mozilla is running (or vice versa)\n",
      "separator not available when all toolbar items are in toolbar layout\n",
      "history menu for the back buttons doesn't work\n",
      "attempting to open \"back button history menu\" in the second window generates another back button on the toolbar\n",
      "Phoenix and Mozilla cannot comfortably share a source tree\n",
      "Phoenix forgets all cookies even though \"Enable cookies for the current session only\" is NOT chosen\n",
      "Starting Customizing Toolbar makes the current page go blank\n",
      "Check in Satchel (the successor to wallet)\n",
      "Mousing over back menu in second window horks things\n",
      "Personal toolbar needs a min-height to avoid \"popping in\"\n",
      "New Folder...in ptoolbar context menu is broken\n",
      "Implement Mozilla Firebird Help\n",
      "tabs close in the wrong order (right to left)\n",
      "back buttons and context options always disabled.\n",
      "Customising toolbar breaks the throbber!\n",
      "manage bookmarks causes hang\n",
      "land pch's bookmarks patch from bug 160019\n",
      "Preferences > Privacy > Images == Wonky\n",
      "Extremely high memory consumption after closing all windows with Quick Launch (Turbo) enabled\n",
      "Go menu needs to have an id=\n",
      "implement progress meter in URLbar\n",
      "view source tries to download type application x-view-source from view-source:<url>\n",
      "second window opens mozilla\n",
      "fix branding\n",
      "auto close for download manager would be nice\n",
      "Components of the Navigation Toolbar do not appear with the Modern theme.\n",
      "Pop up window blocking\n",
      "Uabar doesn't work\n",
      "Theme changes will take effect when you restart _Mozilla_.\n",
      "Need large icons for the Options menu\n",
      "Enable images cannot be used to disable the display of images.\n",
      "The bookmark tree jumps unexpectedly to the bottom of its view when the the first visible row is not the first one\n",
      "Move bookmarks transactions into a JS service (adding a bookmark leaks the Add Bookmark dialog)\n",
      "Shortcut Ctrl-Y (redo) does not work in Bookmarks Manager\n",
      "Eradicate AddBookmarkImmediately\n",
      "Deleting a selection should select the next item\n",
      "transaction manager does not handle import\n",
      "customize toolbar clears URL\n",
      "3.2% increase in Phoenix Ts after bookmark landing\n",
      "cannot close folder with single click on twistie\n",
      "Pref UI to specify a proxy server for web navigation\n",
      "Implement improved\n",
      "Implement global Go menu\n",
      "Readd Open Location\n",
      "Need tab loading icon\n",
      "first Mozilla Firefox window ignored by nsIWindowMediator\n",
      "first Phoenix window ignored by nsIWindowMediator\n",
      "preferences no longer works\n",
      "Open Personal Toolbar folder in toolbar\n",
      "web search for \"\" in context menu don't work\n",
      "Fix full screen to have smaller icons\n",
      "Port patch to bug 164006 (wyciwyg: in tab titles)\n",
      "[cust] Add more off-by-default toolbar buttons\n",
      "textmode buttons need hover state\n",
      "enable nsITheme form control goodness for Phoenix\n",
      "rename executable and profile dir\n",
      "Need to enable wallet (password manager manager manager)\n",
      "New Extension Manager\n",
      "the changes to mozbrowser too confusing and too much\n",
      "Missing proxy image\n",
      "Cannot File > New Bookmark while managing a new folder\n",
      "Bookmarks are not loaded if the Personal Toolbar is switched off\n",
      "Pretty up dns error page a bit\n",
      "middle click (pt+bookmark menu) loads in the current tab + new tab\n",
      "Nightly for 22 Sept displays page details above window\n",
      "Ctrl-W does not close the current tab\n",
      "listboxes and tree views don't support themes on winxp\n",
      "Ctrl+Mousewheel should resize text\n",
      "bookmarks should import Mozilla's bookmarks\n",
      "Please tell people to use a new profile.\n",
      "combine links + toolbar\n",
      "File | Import ... does not work cannot import 4.x\n",
      "About dialog weirdness\n",
      "Context menu doesn't appear when right clicking on disabled forward or back\n",
      "can't specify cookie details\n",
      "Proxy settings in prefs.js seem to be ignored...\n",
      "Incorrectly renders various web pages\n",
      "Window won't show completely\n",
      "Can't change privacy settings\n",
      "[Moz] Cannot set \"Imported IE Favorites\" to default personal toolbar folder\n",
      "pheonix\n",
      "Need smaller throbber to use with small icons\n",
      "Blank URL bar after using Customize Toolbar\n",
      "Mousewheel does not scroll web page\n",
      "ctrl+tab should switch tabs in browser\n",
      "favicon.ico colors render improperly in tabs and URL bar\n",
      "-remote openurl() opens Mozilla window if Mozilla is running\n",
      "make preferences resizable\n",
      "Scroll bar becomes blank\n",
      "fix addressbar dropdown icon for linux.\n",
      "\"Find Next\" button doesn't always respond to Enter\n",
      "Ctrl+Mousewheel should cycle tabs\n",
      "A new icon for Firebird\n",
      "2nd Copy won't load with same profile\n",
      "width of table containing text being handled incorrectly (multiple screenwidths wide)\n",
      "accessing \"navigator.cookieEnabled\" produces \"uncaught exception\"\n",
      "Need Mozilla Firebird newsgroup\n",
      "Revive XUL preprocessor\n",
      "Phoenix needs talkback\n",
      "Navigation toolbar is completely blank\n",
      "Phoenix refuses to start due missing libstdc++-libc6.2-2.so.3\n",
      "restore image blocking in Phoenix\n",
      "error when dragging from empty area on personal toolbar to window\n",
      "no url bar back or forward buttons\n",
      "fullscreen minimize\n",
      "scroll bar button arrows magically move\n",
      "implement middle click paste to load URL for Windows\n",
      "auto-imported ie favorites (on every restart) do not resolve.\n",
      "URL toolbar missing off Phoenix nightly for 25 September\n",
      "Cache appears twice in preferences\n",
      "Open new window (script) on onload doesn't work\n",
      "Ability to set tabgroups as homepages\n",
      "No wordwrap on news article pages\n",
      "no resume choice in download manager\n",
      "right mouse menu has open window in first position insetad of open new tab\n",
      "unexplained crash(s)\n",
      "Can't import Mozilla bookmarks\n",
      "Bookmarks disappear after installation\n",
      "Fix appearance of urlbar dropdown on Linux\n",
      "Changes to get os building\n",
      "Clicking on a targeted link opens a blank window\n",
      "Missing address Bar\n",
      "Blank Navigation Toolbar\n",
      "missing buttons\n",
      "left tab toolbar resizable\n",
      "Do everything possible to minimize the build size\n",
      "[cust] new toolbar customization features\n",
      "fixup after dropping communicator.css\n",
      "address bar not showing up.\n",
      "[cust] No URL bar on tool bar stops bookmarks from loading\n",
      "middle click on a tab should close it\n",
      "closing a tab focuses the left tab\n",
      "Version number is too low.\n",
      "sorting bookmarks from the view menu has been broken for too long.\n",
      "File -> Open Location does not open a dialog box.\n",
      "Trying to submit bug 171196 generated error.\n",
      "256 color mode does strange things\n",
      "[cust] customize should be a dialog\n",
      "[cust] represent all personal toolbar bookmarks with one item\n",
      "[cust] text labels for address field and search fields.\n",
      "[cust] cancel is buggy\n",
      "Browser is ignoring the attibute TITLE in TAG <img...\n",
      "Back button skips page if error\n",
      "Text doesn't wrap\n",
      "Created what I think is a nice Phoenix icon.\n",
      "[cust] able to get two URLbars when customizing toolbars\n",
      "[cust] Creating a new toolbar with same name as standard toolbar should give an error\n",
      "Implement \"Use Bookmark\" menubutton in General prefs\n",
      "redesign of how we expose bookmark groups / launching multiple tabs from bookmarks\n",
      "use more userfriendly icons\n",
      "showing \"icons&text\" shows reload and stop labels right to the buttons\n",
      "after customizing toolbars urlbar is empty\n",
      "removing all items from a toolbar deletes it\n",
      "[cust] When the URL text box is hidden\n",
      "[cust] You can make a toolbar button part of the URL bar inplace of the favicon.\n",
      "Phoenix won't start on Windows 9x\n",
      "Add popup whitelisting\n",
      "file->export shows strange characters as file type\n",
      "Can't tab into urlbar autocomplete\n",
      "Edit -> Preferences == Freeze\n",
      "[cust] Customize toolbar windows is incorrectly sized when using larger fonts\n",
      "[cust] linux customize sheet comes up in the wrong place(s)\n",
      "new address autocomplete (satchel) no longer allows tabbing to popup\n",
      "[cust] restore default set doesn't restore palette completely\n",
      "when dns error page is presented and you click back button you go back 2 pages\n",
      "middle-paste of url in content area should load that page\n",
      "image files checked in without binary flag\n",
      "view image opens new window\n",
      "scripts opens windows instead of tabs\n",
      "ALT+F is mapped to Find instead of File menu\n",
      "Needs to be more space between toolbarbuttons\n",
      "Mozilla Firefox creates a profile directory called \"Mozilla\"\n",
      "Background of Go button should be transparent\n",
      "Phoenix fails to import Mozilla bookmarks\n",
      "Dropmarker doesn't depress in non-luna\n",
      "Autocomplete is broken in Homepage pref\n",
      "implement toolbar search in page\n",
      "Focus is not on page after going to page via bookmark\n",
      "Ctrl-click should open bookmark in a new tab\n",
      "crash on http://\n",
      "Implement work offline\n",
      "Add close button to sidebar\n",
      "Implement toolbar overflow\n",
      "Implement deletion of individual autocomplete results\n",
      "Add dropmarker to icon in search bar\n",
      "enter key in the bookmark manager does not load the selected bookmark\n",
      "Add View -> Sidebars\n",
      "Browser Crash\n",
      "icons for customize toolbar additions.\n",
      "Microsoft Web Outlook newsgroup posting will not allow reply to group\n",
      "Download Manager finishes large files prematurely\n",
      "Unable to create a new folder when selecting first ADD BOOKMARK\n",
      "Add support for a <toolbar> to the right of the menu bar\n",
      "Phoenix Quits When Attempting to Access MyCheckFree.Com\n",
      "Will not open new window to Download Creative drivers\n",
      "tweaking of the View menu\n",
      "mix of large and small icons on toolbars\n",
      "Doesn't display 404\n",
      "Mozilla Firebird forgets i\n"
     ]
    }
   ],
   "source": [
    "forum = webtext.raw('firefox.txt')\n",
    "print(forum[:10000])"
   ]
  },
  {
   "cell_type": "code",
   "execution_count": 59,
   "metadata": {},
   "outputs": [
    {
     "name": "stdout",
     "output_type": "stream",
     "text": [
      "['http://www.scripting.com/misc/msswitchad', 'http://www.watch.impress.co.jp', 'http://bugzilla.mozilla.org', 'http://www.http://mozilla.org', 'http://www.peterre.com', 'http://texturizer.net/firebird', 'http://foo', 'http://http://', 'http://james', 'http://www.lexis.com', 'http://www.woolworth.de', 'http://ftp.mozilla.org/pub/mozilla.org/firebird/nightly', 'http://http://', 'http://extensionroom.mozdev.org/more-info', 'http://www.odeon.co.uk/odeon', 'http://www.cctvusa.com', 'http://www.trenitalia.com/home/it', 'https://www.fortify.net', 'http://irc-galleria.net', 'http://http', 'http://www.mozilla.org/products', 'http://labs.google.com/cgi-bin', 'http://www.timbressuisses.ch', 'https://www.eposasp.com/ebpp']\n",
      "['t+b', 's + t', 'ctrl+t', 'c++', 'ctrl+d', 'c++', 'ctrl + e', 'ctrl+d', 'ctrl+t', 'shift+l', 'ctrl + s', '(ctrl+e', '(alt+e', 'ctrl+e', 'ctrl+e', 'trl+-', 'trl++', 'ctrl+e', 'ctrl+e', 'alt+b', '(alt+f', 'alt+s', 'shift+s', 'shift+s', 'alt+s', 'lt+d', 'i++', 'ctrl+p', 'ct + r', 'ctrl++', 'lt+d', 'crash + e', 'i++', 'alt+e', 'alt+e', 'trl + u', 'trl+t', 'trl+x', 'lt+f', 'trl+m', 'trl+w', 'this+i', 's+a', 'hift+c', 'ctrl+p', 'lt+f', 'ctrl++', 'crtl + m', 'shift+d', '(ctrl+f', 'ctrl+t', 'trl+m', 'lt+f', 'l+j', 'c++', 'c++', 'ctrl+e']\n"
     ]
    }
   ],
   "source": [
    "import re\n",
    "\n",
    "urls = re.findall('https*://[^\\s]+', forum)\n",
    "shortcuts = re.findall('[ctrl|shift|alt]+\\s*\\+\\s*[a-z+\\-.,/]', forum)\n",
    "\n",
    "print(urls)\n",
    "print(shortcuts)"
   ]
  },
  {
   "cell_type": "markdown",
   "metadata": {},
   "source": [
    "## Assignement 2"
   ]
  },
  {
   "cell_type": "code",
   "execution_count": 61,
   "metadata": {},
   "outputs": [
    {
     "name": "stderr",
     "output_type": "stream",
     "text": [
      "[nltk_data] Downloading package gutenberg to\n",
      "[nltk_data]     C:\\Users\\Frederico\\AppData\\Roaming\\nltk_data...\n",
      "[nltk_data]   Unzipping corpora\\gutenberg.zip.\n"
     ]
    },
    {
     "data": {
      "text/plain": [
       "True"
      ]
     },
     "execution_count": 61,
     "metadata": {},
     "output_type": "execute_result"
    }
   ],
   "source": [
    "from nltk.corpus import gutenberg\n",
    "nltk.download('gutenberg')\n"
   ]
  },
  {
   "cell_type": "code",
   "execution_count": 63,
   "metadata": {},
   "outputs": [
    {
     "name": "stdout",
     "output_type": "stream",
     "text": [
      "[The Tragedie of Hamlet by William Shakespeare 1599]\n",
      "\n",
      "\n",
      "Actus Primus. Scoena Prima.\n",
      "\n",
      "Enter Barnardo a\n"
     ]
    }
   ],
   "source": [
    "hamlet = gutenberg.raw('shakespeare-hamlet.txt')\n",
    "print(hamlet[:100])"
   ]
  },
  {
   "cell_type": "code",
   "execution_count": 64,
   "metadata": {},
   "outputs": [
    {
     "ename": "ModuleNotFoundError",
     "evalue": "No module named 'spacy'",
     "output_type": "error",
     "traceback": [
      "\u001b[1;31m---------------------------------------------------------------------------\u001b[0m",
      "\u001b[1;31mModuleNotFoundError\u001b[0m                       Traceback (most recent call last)",
      "\u001b[1;32m<ipython-input-64-c9bc8ef91597>\u001b[0m in \u001b[0;36m<module>\u001b[1;34m\u001b[0m\n\u001b[1;32m----> 1\u001b[1;33m \u001b[1;32mimport\u001b[0m \u001b[0mspacy\u001b[0m\u001b[1;33m\u001b[0m\u001b[1;33m\u001b[0m\u001b[0m\n\u001b[0m\u001b[0;32m      2\u001b[0m \u001b[1;32mfrom\u001b[0m \u001b[0mspacy\u001b[0m \u001b[1;32mimport\u001b[0m \u001b[0mdisplacy\u001b[0m\u001b[1;33m\u001b[0m\u001b[1;33m\u001b[0m\u001b[0m\n\u001b[0;32m      3\u001b[0m \u001b[1;32mfrom\u001b[0m \u001b[0mspacy\u001b[0m \u001b[1;32mimport\u001b[0m \u001b[0mtokenizer\u001b[0m\u001b[1;33m\u001b[0m\u001b[1;33m\u001b[0m\u001b[0m\n",
      "\u001b[1;31mModuleNotFoundError\u001b[0m: No module named 'spacy'"
     ]
    }
   ],
   "source": [
    "import spacy\n",
    "from spacy import displacy\n",
    "from spacy import tokenizer\n"
   ]
  },
  {
   "cell_type": "code",
   "execution_count": null,
   "metadata": {},
   "outputs": [],
   "source": [
    "words = NER(hamlet)\n",
    "\n",
    "for word in words.ents:\n",
    "    print(word.text,word.label_)"
   ]
  },
  {
   "cell_type": "code",
   "execution_count": null,
   "metadata": {},
   "outputs": [],
   "source": [
    "# nlp = spacy.load('en_core_web_sm')\n",
    "\n",
    "# doc = nlp(hamlet)\n",
    "# sentences = list(doc.sents)\n",
    "\n",
    "# train_text = state_union.raw()\n",
    " \n",
    "# sample_text = state_union.raw(\"2006-GWBush.txt\")\n",
    "# custom_sent_tokenizer = PunktSentenceTokenizer(train_text)\n",
    "# tokenized = custom_sent_tokenizer.tokenize(sample_text)\n",
    "# # function\n",
    "# def get_named _entity():\n",
    "#     try:\n",
    "#         for i in tokenized:\n",
    "#             words = nltk.word_tokenize(i)\n",
    "#             tagged = nltk.pos_tag(words)\n",
    "#             namedEnt = nltk.ne_chunk(tagged, binary=False)\n",
    "#             namedEnt.draw()\n",
    "#     except:\n",
    "#         pass\n",
    "# get_named_entity()"
   ]
  },
  {
   "cell_type": "markdown",
   "metadata": {},
   "source": [
    "## Assignement 3"
   ]
  }
 ],
 "metadata": {
  "kernelspec": {
   "display_name": "Python 3.8.3 ('base')",
   "language": "python",
   "name": "python3"
  },
  "language_info": {
   "codemirror_mode": {
    "name": "ipython",
    "version": 3
   },
   "file_extension": ".py",
   "mimetype": "text/x-python",
   "name": "python",
   "nbconvert_exporter": "python",
   "pygments_lexer": "ipython3",
   "version": "3.8.3"
  },
  "orig_nbformat": 4,
  "vscode": {
   "interpreter": {
    "hash": "6e511838c1e57aaa348af65028b1d0e807fc0ba78c128e77bcd38a63295926b2"
   }
  }
 },
 "nbformat": 4,
 "nbformat_minor": 2
}
