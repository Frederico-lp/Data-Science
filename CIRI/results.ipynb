{
 "cells": [
  {
   "cell_type": "code",
   "execution_count": null,
   "metadata": {
    "collapsed": true
   },
   "outputs": [],
   "source": [
    "import numpy as np\n",
    "import matplotlib.pyplot as plt"
   ]
  },
  {
   "cell_type": "code",
   "execution_count": null,
   "outputs": [],
   "source": [
    "test_accuracy = np.load(\"ResNet/ResNet_test_accuracy.npy\")\n",
    "train_accuracy = np.load(\"ResNet/ResNet_train_accuracy.npy\")\n",
    "\n",
    "test_loss = np.load(\"ResNet/ResNet_test_loss.npy\")\n",
    "train_loss = np.load(\"ResNet/ResNet_train_loss.npy\")"
   ],
   "metadata": {
    "collapsed": false
   }
  },
  {
   "cell_type": "code",
   "execution_count": null,
   "outputs": [],
   "source": [
    "test_accuracy.shape, train_accuracy.shape"
   ],
   "metadata": {
    "collapsed": false
   }
  },
  {
   "cell_type": "code",
   "execution_count": null,
   "outputs": [],
   "source": [
    "def draw_line(data, color, label):\n",
    "    mean = np.mean(data, axis = 0)\n",
    "    std = np.std(data, axis = 0)\n",
    "    plt.fill_between(np.arange(test_accuracy.shape[1]), mean+std, mean-std, alpha=.5, color=color)\n",
    "    plt.plot(mean, color=color, label=label)\n",
    "    plt.scatter(np.arange(test_accuracy.shape[1]), mean, color=color)\n"
   ],
   "metadata": {
    "collapsed": false
   }
  },
  {
   "cell_type": "code",
   "execution_count": null,
   "outputs": [],
   "source": [
    "draw_line(test_accuracy, 'C0', 'Test')\n",
    "draw_line(train_accuracy, 'C1', 'Train')\n",
    "\n",
    "plt.title(\"Accuracy learning curve ResNet50\")\n",
    "plt.ylim((.4, 1.))\n",
    "plt.xlabel(\"Epoch\")\n",
    "plt.ylabel(\"Accuracy\")\n",
    "plt.legend()\n",
    "plt.savefig(\"figures/Accuracy learning curve ResNet50\")"
   ],
   "metadata": {
    "collapsed": false
   }
  },
  {
   "cell_type": "code",
   "execution_count": null,
   "outputs": [],
   "source": [
    "draw_line(test_loss, 'C0', 'Test')\n",
    "draw_line(train_loss, 'C1', 'Train')\n",
    "\n",
    "plt.title(\"Loss learning curve ResNet50\")\n",
    "plt.xlabel(\"Epoch\")\n",
    "plt.ylabel(\"Accuracy\")\n",
    "plt.legend()\n",
    "plt.savefig(\"figures/Loss learning curve ResNet50\")"
   ],
   "metadata": {
    "collapsed": false
   }
  },
  {
   "cell_type": "code",
   "execution_count": null,
   "outputs": [],
   "source": [
    "test_accuracy_mobile = np.load(\"MobileNetV2/MobileNetV2_test_accuracy.npy\")\n",
    "train_accuracy_mobile = np.load(\"MobileNetV2/MobileNetV2_train_accuracy.npy\")\n",
    "\n",
    "test_loss_mobile = np.load(\"MobileNetV2/MobileNetV2_test_loss.npy\")\n",
    "train_loss_mobile = np.load(\"MobileNetV2/MobileNetV2_train_loss.npy\")"
   ],
   "metadata": {
    "collapsed": false
   }
  },
  {
   "cell_type": "code",
   "execution_count": null,
   "outputs": [],
   "source": [
    "draw_line(test_accuracy_mobile, 'C0', 'Test')\n",
    "draw_line(train_accuracy_mobile, 'C1', 'Train')\n",
    "\n",
    "plt.title(\"Accuracy learning curve MobileNetV2\")\n",
    "plt.ylim((.4, 1.))\n",
    "plt.xlabel(\"Epoch\")\n",
    "plt.ylabel(\"Accuracy\")\n",
    "plt.legend()\n",
    "plt.savefig(\"figures/Accuracy learning curve MobileNetV2\")"
   ],
   "metadata": {
    "collapsed": false
   }
  },
  {
   "cell_type": "code",
   "execution_count": null,
   "outputs": [],
   "source": [
    "draw_line(test_loss_mobile, 'C0', 'Test')\n",
    "draw_line(train_loss_mobile, 'C1', 'Train')\n",
    "\n",
    "plt.title(\"Loss learning curve MobileNetV2\")\n",
    "plt.xlabel(\"Epoch\")\n",
    "plt.ylabel(\"Accuracy\")\n",
    "plt.legend()\n",
    "plt.savefig(\"figures/Loss learning curve MobileNetV2\")"
   ],
   "metadata": {
    "collapsed": false
   }
  },
  {
   "cell_type": "code",
   "execution_count": null,
   "outputs": [],
   "source": [],
   "metadata": {
    "collapsed": false
   }
  }
 ],
 "metadata": {
  "kernelspec": {
   "display_name": "Python 3",
   "language": "python",
   "name": "python3"
  },
  "language_info": {
   "codemirror_mode": {
    "name": "ipython",
    "version": 2
   },
   "file_extension": ".py",
   "mimetype": "text/x-python",
   "name": "python",
   "nbconvert_exporter": "python",
   "pygments_lexer": "ipython2",
   "version": "2.7.6"
  }
 },
 "nbformat": 4,
 "nbformat_minor": 0
}
