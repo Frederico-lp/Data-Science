{
 "cells": [
  {
   "cell_type": "code",
   "execution_count": 6,
   "metadata": {
    "collapsed": true
   },
   "outputs": [],
   "source": [
    "import numpy as np\n",
    "import matplotlib.pyplot as plt"
   ]
  },
  {
   "cell_type": "code",
   "execution_count": 4,
   "outputs": [
    {
     "ename": "FileNotFoundError",
     "evalue": "[Errno 2] No such file or directory: 'ResNet/ResNet_test_accuracy.npy'",
     "output_type": "error",
     "traceback": [
      "\u001B[1;31m---------------------------------------------------------------------------\u001B[0m",
      "\u001B[1;31mFileNotFoundError\u001B[0m                         Traceback (most recent call last)",
      "Cell \u001B[1;32mIn[4], line 1\u001B[0m\n\u001B[1;32m----> 1\u001B[0m test_accuracy \u001B[38;5;241m=\u001B[39m \u001B[43mnp\u001B[49m\u001B[38;5;241;43m.\u001B[39;49m\u001B[43mload\u001B[49m\u001B[43m(\u001B[49m\u001B[38;5;124;43m\"\u001B[39;49m\u001B[38;5;124;43mResNet/ResNet_test_accuracy.npy\u001B[39;49m\u001B[38;5;124;43m\"\u001B[39;49m\u001B[43m)\u001B[49m\n\u001B[0;32m      2\u001B[0m train_accuracy \u001B[38;5;241m=\u001B[39m np\u001B[38;5;241m.\u001B[39mload(\u001B[38;5;124m\"\u001B[39m\u001B[38;5;124mResNet/ResNet_train_accuracy.npy\u001B[39m\u001B[38;5;124m\"\u001B[39m)\n\u001B[0;32m      4\u001B[0m test_loss \u001B[38;5;241m=\u001B[39m np\u001B[38;5;241m.\u001B[39mload(\u001B[38;5;124m\"\u001B[39m\u001B[38;5;124mResNet/ResNet_test_loss.npy\u001B[39m\u001B[38;5;124m\"\u001B[39m)\n",
      "File \u001B[1;32m~\\anaconda3\\envs\\Data-Science\\lib\\site-packages\\numpy\\lib\\npyio.py:405\u001B[0m, in \u001B[0;36mload\u001B[1;34m(file, mmap_mode, allow_pickle, fix_imports, encoding, max_header_size)\u001B[0m\n\u001B[0;32m    403\u001B[0m     own_fid \u001B[38;5;241m=\u001B[39m \u001B[38;5;28;01mFalse\u001B[39;00m\n\u001B[0;32m    404\u001B[0m \u001B[38;5;28;01melse\u001B[39;00m:\n\u001B[1;32m--> 405\u001B[0m     fid \u001B[38;5;241m=\u001B[39m stack\u001B[38;5;241m.\u001B[39menter_context(\u001B[38;5;28;43mopen\u001B[39;49m\u001B[43m(\u001B[49m\u001B[43mos_fspath\u001B[49m\u001B[43m(\u001B[49m\u001B[43mfile\u001B[49m\u001B[43m)\u001B[49m\u001B[43m,\u001B[49m\u001B[43m \u001B[49m\u001B[38;5;124;43m\"\u001B[39;49m\u001B[38;5;124;43mrb\u001B[39;49m\u001B[38;5;124;43m\"\u001B[39;49m\u001B[43m)\u001B[49m)\n\u001B[0;32m    406\u001B[0m     own_fid \u001B[38;5;241m=\u001B[39m \u001B[38;5;28;01mTrue\u001B[39;00m\n\u001B[0;32m    408\u001B[0m \u001B[38;5;66;03m# Code to distinguish from NumPy binary files and pickles.\u001B[39;00m\n",
      "\u001B[1;31mFileNotFoundError\u001B[0m: [Errno 2] No such file or directory: 'ResNet/ResNet_test_accuracy.npy'"
     ]
    }
   ],
   "source": [
    "test_accuracy = np.load(\"ResNet/ResNet_test_accuracy.npy\")\n",
    "train_accuracy = np.load(\"ResNet/ResNet_train_accuracy.npy\")\n",
    "\n",
    "test_loss = np.load(\"ResNet/ResNet_test_loss.npy\")\n",
    "train_loss = np.load(\"ResNet/ResNet_train_loss.npy\")"
   ],
   "metadata": {
    "collapsed": false
   }
  },
  {
   "cell_type": "code",
   "execution_count": null,
   "outputs": [],
   "source": [
    "test_accuracy.shape, train_accuracy.shape"
   ],
   "metadata": {
    "collapsed": false
   }
  },
  {
   "cell_type": "code",
   "execution_count": null,
   "outputs": [],
   "source": [
    "def draw_line(data, color, label):\n",
    "    mean = np.mean(data, axis = 0)\n",
    "    std = np.std(data, axis = 0)\n",
    "    plt.fill_between(np.arange(test_accuracy.shape[1]), mean+std, mean-std, alpha=.5, color=color)\n",
    "    plt.plot(mean, color=color, label=label)\n",
    "    plt.scatter(np.arange(test_accuracy.shape[1]), mean, color=color)\n"
   ],
   "metadata": {
    "collapsed": false
   }
  },
  {
   "cell_type": "code",
   "execution_count": null,
   "outputs": [],
   "source": [
    "draw_line(test_accuracy, 'C0', 'Test')\n",
    "draw_line(train_accuracy, 'C1', 'Train')\n",
    "\n",
    "plt.title(\"Accuracy learning curve ResNet50 with oversampling\")\n",
    "plt.ylim((.4, 1.))\n",
    "plt.xlabel(\"Epoch\")\n",
    "plt.ylabel(\"Accuracy\")\n",
    "plt.legend()\n",
    "plt.savefig(\"figures/Accuracy learning curve ResNet50 with oversampling\")"
   ],
   "metadata": {
    "collapsed": false
   }
  },
  {
   "cell_type": "code",
   "execution_count": null,
   "outputs": [],
   "source": [
    "draw_line(test_loss, 'C0', 'Test')\n",
    "draw_line(train_loss, 'C1', 'Train')\n",
    "\n",
    "plt.title(\"Loss learning curve ResNet50 with oversampling\")\n",
    "plt.xlabel(\"Epoch\")\n",
    "plt.ylabel(\"Accuracy\")\n",
    "plt.legend()\n",
    "plt.savefig(\"figures/Loss learning curve ResNet50 with oversampling\")"
   ],
   "metadata": {
    "collapsed": false
   }
  },
  {
   "cell_type": "code",
   "execution_count": null,
   "outputs": [],
   "source": [
    "test_accuracy_mobile = np.load(\"MobileNetV2/MobileNetV2_test_accuracy.npy\")\n",
    "train_accuracy_mobile = np.load(\"MobileNetV2/MobileNetV2_train_accuracy.npy\")\n",
    "\n",
    "test_loss_mobile = np.load(\"MobileNetV2/MobileNetV2_test_loss.npy\")\n",
    "train_loss_mobile = np.load(\"MobileNetV2/MobileNetV2_train_loss.npy\")"
   ],
   "metadata": {
    "collapsed": false
   }
  },
  {
   "cell_type": "code",
   "execution_count": null,
   "outputs": [],
   "source": [
    "draw_line(test_accuracy_mobile, 'C0', 'Test')\n",
    "draw_line(train_accuracy_mobile, 'C1', 'Train')\n",
    "\n",
    "plt.title(\"Accuracy learning curve MobileNetV2 with oversampling\")\n",
    "plt.ylim((.4, 1.))\n",
    "plt.xlabel(\"Epoch\")\n",
    "plt.ylabel(\"Accuracy\")\n",
    "plt.legend()\n",
    "plt.savefig(\"figures/Accuracy learning curve MobileNetV2 with oversampling\")"
   ],
   "metadata": {
    "collapsed": false
   }
  },
  {
   "cell_type": "code",
   "execution_count": null,
   "outputs": [],
   "source": [
    "draw_line(test_loss_mobile, 'C0', 'Test')\n",
    "draw_line(train_loss_mobile, 'C1', 'Train')\n",
    "\n",
    "plt.title(\"Loss learning curve MobileNetV2\")\n",
    "plt.xlabel(\"Epoch\")\n",
    "plt.ylabel(\"Accuracy\")\n",
    "plt.legend()\n",
    "plt.savefig(\"figures/Loss learning curve MobileNetV2 with oversampling\")"
   ],
   "metadata": {
    "collapsed": false
   }
  },
  {
   "cell_type": "code",
   "execution_count": null,
   "outputs": [],
   "source": [
    "test_accuracy_inception = np.load(\"Inception3/Inception3_test_accuracy.npy\")\n",
    "train_accuracy_inception = np.load(\"Inception3/Inception3_train_accuracy.npy\")\n",
    "\n",
    "test_loss_inception = np.load(\"Inception3/Inception3_test_loss.npy\")\n",
    "train_loss_inception = np.load(\"Inception3/Inception3_train_loss.npy\")"
   ],
   "metadata": {
    "collapsed": false,
    "pycharm": {
     "name": "#%%\n"
    }
   }
  },
  {
   "cell_type": "code",
   "execution_count": null,
   "outputs": [],
   "source": [
    "draw_line(test_accuracy_mobile, 'C0', 'Test')\n",
    "draw_line(train_accuracy_mobile, 'C1', 'Train')\n",
    "\n",
    "plt.title(\"Accuracy learning curve Inception3\")\n",
    "plt.ylim((.4, 1.))\n",
    "plt.xlabel(\"Epoch\")\n",
    "plt.ylabel(\"Accuracy\")\n",
    "plt.legend()\n",
    "plt.savefig(\"figures/Accuracy learning curve Inception3\")"
   ],
   "metadata": {
    "collapsed": false,
    "pycharm": {
     "name": "#%%\n"
    }
   }
  },
  {
   "cell_type": "code",
   "execution_count": null,
   "outputs": [],
   "source": [
    "draw_line(test_loss_mobile, 'C0', 'Test')\n",
    "draw_line(train_loss_mobile, 'C1', 'Train')\n",
    "\n",
    "plt.title(\"Loss learning curve Inception3\")\n",
    "plt.xlabel(\"Epoch\")\n",
    "plt.ylabel(\"Accuracy\")\n",
    "plt.legend()\n",
    "plt.savefig(\"figures/Loss learning curve Inception3\")"
   ],
   "metadata": {
    "collapsed": false,
    "pycharm": {
     "name": "#%%\n"
    }
   }
  },
  {
   "cell_type": "code",
   "execution_count": 7,
   "outputs": [],
   "source": [
    "import dataset\n",
    "import torchvision.transforms as transforms\n",
    "\n",
    "\n",
    "transform = transforms.Compose([\n",
    "    # to-tensor\n",
    "    transforms.ToTensor(),\n",
    "    # resize\n",
    "    transforms.Resize(128),\n",
    "    # center-crop\n",
    "    transforms.CenterCrop(128),\n",
    "    # normalize\n",
    "    # transforms.Normalize([0.4914, 0.4822, 0.4465], [0.2023, 0.1994, 0.2010]),\n",
    "])\n",
    "\n",
    "incidents = dataset.IncidentsDataset(\"Incidents-subset\", transform=transform)"
   ],
   "metadata": {
    "collapsed": false
   }
  },
  {
   "cell_type": "code",
   "execution_count": null,
   "outputs": [],
   "source": [
    "from mpl_toolkits.axes_grid1 import ImageGrid\n",
    "\n",
    "fig = plt.figure(figsize=(20, 20))\n",
    "grid = ImageGrid(fig, 111, nrows_ncols=(2, 6), axes_pad=(.3, .3))\n",
    "\n",
    "images = []\n",
    "\n",
    "for i in range(2):\n",
    "    for j in range(6):\n",
    "        idx = i*6+j\n",
    "        img = incidents.get_item_with_target(idx, 1)\n",
    "        grid[idx].imshow(img.permute(1, 2, 0))\n",
    "        grid[idx].set_title(incidents.labels[idx])\n",
    "        grid[idx].axis('off')\n",
    "\n",
    "plt.savefig('figures/example_images')"
   ],
   "metadata": {
    "collapsed": false
   }
  },
  {
   "cell_type": "code",
   "execution_count": 93,
   "outputs": [
    {
     "data": {
      "text/plain": "<AxesSubplot: >"
     },
     "execution_count": 93,
     "metadata": {},
     "output_type": "execute_result"
    },
    {
     "data": {
      "text/plain": "<Figure size 640x480 with 2 Axes>",
      "image/png": "[encoded data removed]"
     },
     "metadata": {},
     "output_type": "display_data"
    }
   ],
   "source": [
    "import numpy as np\n",
    "import seaborn as sns\n",
    "\n",
    "conf = np.load(\"Baseline/MobileNetV2/conf_matrix.npy\")\n",
    "\n",
    "\n",
    "sns.heatmap(np.sum(conf, axis=0)/5, annot=True)"
   ],
   "metadata": {
    "collapsed": false,
    "pycharm": {
     "name": "#%%\n"
    }
   }
  },
  {
   "cell_type": "code",
   "execution_count": 77,
   "outputs": [
    {
     "data": {
      "text/plain": "834"
     },
     "execution_count": 77,
     "metadata": {},
     "output_type": "execute_result"
    }
   ],
   "source": [
    "len(incidents.targets[incidents.targets == 0])"
   ],
   "metadata": {
    "collapsed": false,
    "pycharm": {
     "name": "#%%\n"
    }
   }
  },
  {
   "cell_type": "code",
   "execution_count": 78,
   "outputs": [
    {
     "name": "stdout",
     "output_type": "stream",
     "text": [
      "0.785022026431718\n",
      "0.7579672695951766\n",
      "0.7337133550488599\n",
      "0.7840290381125227\n",
      "0.7693693693693694\n"
     ]
    }
   ],
   "source": [
    "for j in range(5):\n",
    "    subconf = conf[j][1:, 1:]\n",
    "\n",
    "    total = 0\n",
    "    for i in range(11):\n",
    "        total += subconf[i, i]\n",
    "\n",
    "    print(total/np.sum(subconf))"
   ],
   "metadata": {
    "collapsed": false,
    "pycharm": {
     "name": "#%%\n"
    }
   }
  },
  {
   "cell_type": "code",
   "execution_count": 95,
   "outputs": [
    {
     "name": "stdout",
     "output_type": "stream",
     "text": [
      "0.7538174414658976\n"
     ]
    }
   ],
   "source": [
    "conf = np.load(\"Baseline/MobileNetV2/conf_matrix.npy\")\n",
    "\n",
    "subconf = (np.sum(conf, axis=0))[1:, 1:]\n",
    "\n",
    "total = 0\n",
    "for i in range(11):\n",
    "    total += subconf[i, i]\n",
    "\n",
    "print(total/np.sum(subconf))"
   ],
   "metadata": {
    "collapsed": false,
    "pycharm": {
     "name": "#%%\n"
    }
   }
  },
  {
   "cell_type": "code",
   "execution_count": 33,
   "outputs": [
    {
     "data": {
      "text/plain": "794"
     },
     "execution_count": 33,
     "metadata": {},
     "output_type": "execute_result"
    }
   ],
   "source": [
    "total"
   ],
   "metadata": {
    "collapsed": false,
    "pycharm": {
     "name": "#%%\n"
    }
   }
  },
  {
   "cell_type": "code",
   "execution_count": null,
   "outputs": [],
   "source": [],
   "metadata": {
    "collapsed": false,
    "pycharm": {
     "name": "#%%\n"
    }
   }
  }
 ],
 "metadata": {
  "kernelspec": {
   "display_name": "Python 3",
   "language": "python",
   "name": "python3"
  },
  "language_info": {
   "codemirror_mode": {
    "name": "ipython",
    "version": 2
   },
   "file_extension": ".py",
   "mimetype": "text/x-python",
   "name": "python",
   "nbconvert_exporter": "python",
   "pygments_lexer": "ipython2",
   "version": "2.7.6"
  }
 },
 "nbformat": 4,
 "nbformat_minor": 0
}